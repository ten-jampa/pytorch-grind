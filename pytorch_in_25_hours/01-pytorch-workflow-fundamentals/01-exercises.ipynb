{
 "cells": [
  {
   "cell_type": "markdown",
   "id": "c25c019b",
   "metadata": {},
   "source": [
    "# Section 1: Exercise"
   ]
  },
  {
   "cell_type": "markdown",
   "id": "cd7608a0",
   "metadata": {},
   "source": [
    "## Q1. Create a straight line dataset using the linear regression formula (weight * X + bias).\n",
    "\n",
    "- Set `weight = 0.3` and `bias = 0.9`. There should be at least 100 datapoints in total.\n",
    "- Split the data into 80% training and 20% testing.\n",
    "- Plot the training and testing data for visualization.\n"
   ]
  },
  {
   "cell_type": "code",
   "execution_count": 16,
   "id": "cbcc0796",
   "metadata": {},
   "outputs": [
    {
     "data": {
      "text/plain": [
       "'2.6.0+cpu'"
      ]
     },
     "execution_count": 16,
     "metadata": {},
     "output_type": "execute_result"
    }
   ],
   "source": [
    "## Imports\n",
    "\n",
    "import torch\n",
    "import torch.nn as nn\n",
    "import matplotlib.pyplot as plt\n",
    "\n",
    "### Torch version\n",
    "torch.__version__"
   ]
  },
  {
   "cell_type": "code",
   "execution_count": 17,
   "id": "249fc663",
   "metadata": {},
   "outputs": [],
   "source": [
    "device = 'cuda' if torch.cuda.is_available() else 'cpu'"
   ]
  },
  {
   "cell_type": "code",
   "execution_count": 18,
   "id": "fb5d413c",
   "metadata": {},
   "outputs": [
    {
     "data": {
      "text/plain": [
       "(tensor([[0.0000],\n",
       "         [0.0505],\n",
       "         [0.1010],\n",
       "         [0.1515],\n",
       "         [0.2020],\n",
       "         [0.2525],\n",
       "         [0.3030],\n",
       "         [0.3535],\n",
       "         [0.4040],\n",
       "         [0.4545],\n",
       "         [0.5051],\n",
       "         [0.5556],\n",
       "         [0.6061],\n",
       "         [0.6566],\n",
       "         [0.7071],\n",
       "         [0.7576],\n",
       "         [0.8081],\n",
       "         [0.8586],\n",
       "         [0.9091],\n",
       "         [0.9596],\n",
       "         [1.0101],\n",
       "         [1.0606],\n",
       "         [1.1111],\n",
       "         [1.1616],\n",
       "         [1.2121],\n",
       "         [1.2626],\n",
       "         [1.3131],\n",
       "         [1.3636],\n",
       "         [1.4141],\n",
       "         [1.4646],\n",
       "         [1.5152],\n",
       "         [1.5657],\n",
       "         [1.6162],\n",
       "         [1.6667],\n",
       "         [1.7172],\n",
       "         [1.7677],\n",
       "         [1.8182],\n",
       "         [1.8687],\n",
       "         [1.9192],\n",
       "         [1.9697],\n",
       "         [2.0202],\n",
       "         [2.0707],\n",
       "         [2.1212],\n",
       "         [2.1717],\n",
       "         [2.2222],\n",
       "         [2.2727],\n",
       "         [2.3232],\n",
       "         [2.3737],\n",
       "         [2.4242],\n",
       "         [2.4747],\n",
       "         [2.5253],\n",
       "         [2.5758],\n",
       "         [2.6263],\n",
       "         [2.6768],\n",
       "         [2.7273],\n",
       "         [2.7778],\n",
       "         [2.8283],\n",
       "         [2.8788],\n",
       "         [2.9293],\n",
       "         [2.9798],\n",
       "         [3.0303],\n",
       "         [3.0808],\n",
       "         [3.1313],\n",
       "         [3.1818],\n",
       "         [3.2323],\n",
       "         [3.2828],\n",
       "         [3.3333],\n",
       "         [3.3838],\n",
       "         [3.4343],\n",
       "         [3.4848],\n",
       "         [3.5354],\n",
       "         [3.5859],\n",
       "         [3.6364],\n",
       "         [3.6869],\n",
       "         [3.7374],\n",
       "         [3.7879],\n",
       "         [3.8384],\n",
       "         [3.8889],\n",
       "         [3.9394],\n",
       "         [3.9899],\n",
       "         [4.0404],\n",
       "         [4.0909],\n",
       "         [4.1414],\n",
       "         [4.1919],\n",
       "         [4.2424],\n",
       "         [4.2929],\n",
       "         [4.3434],\n",
       "         [4.3939],\n",
       "         [4.4444],\n",
       "         [4.4949],\n",
       "         [4.5455],\n",
       "         [4.5960],\n",
       "         [4.6465],\n",
       "         [4.6970],\n",
       "         [4.7475],\n",
       "         [4.7980],\n",
       "         [4.8485],\n",
       "         [4.8990],\n",
       "         [4.9495],\n",
       "         [5.0000]]),\n",
       " torch.Size([100, 1]))"
      ]
     },
     "execution_count": 18,
     "metadata": {},
     "output_type": "execute_result"
    }
   ],
   "source": [
    "## Data\n",
    "weight = 0.3\n",
    "bias = 0.9\n",
    "n_points = 100\n",
    "\n",
    "X = torch.linspace(0, 5, 100).unsqueeze(dim = 1) \n",
    "X, X.shape"
   ]
  },
  {
   "cell_type": "code",
   "execution_count": 19,
   "id": "83cf9c9e",
   "metadata": {},
   "outputs": [
    {
     "data": {
      "text/plain": [
       "(tensor([[0.9000],\n",
       "         [0.9152],\n",
       "         [0.9303],\n",
       "         [0.9455],\n",
       "         [0.9606],\n",
       "         [0.9758],\n",
       "         [0.9909],\n",
       "         [1.0061],\n",
       "         [1.0212],\n",
       "         [1.0364],\n",
       "         [1.0515],\n",
       "         [1.0667],\n",
       "         [1.0818],\n",
       "         [1.0970],\n",
       "         [1.1121],\n",
       "         [1.1273],\n",
       "         [1.1424],\n",
       "         [1.1576],\n",
       "         [1.1727],\n",
       "         [1.1879],\n",
       "         [1.2030],\n",
       "         [1.2182],\n",
       "         [1.2333],\n",
       "         [1.2485],\n",
       "         [1.2636],\n",
       "         [1.2788],\n",
       "         [1.2939],\n",
       "         [1.3091],\n",
       "         [1.3242],\n",
       "         [1.3394],\n",
       "         [1.3545],\n",
       "         [1.3697],\n",
       "         [1.3848],\n",
       "         [1.4000],\n",
       "         [1.4152],\n",
       "         [1.4303],\n",
       "         [1.4455],\n",
       "         [1.4606],\n",
       "         [1.4758],\n",
       "         [1.4909],\n",
       "         [1.5061],\n",
       "         [1.5212],\n",
       "         [1.5364],\n",
       "         [1.5515],\n",
       "         [1.5667],\n",
       "         [1.5818],\n",
       "         [1.5970],\n",
       "         [1.6121],\n",
       "         [1.6273],\n",
       "         [1.6424],\n",
       "         [1.6576],\n",
       "         [1.6727],\n",
       "         [1.6879],\n",
       "         [1.7030],\n",
       "         [1.7182],\n",
       "         [1.7333],\n",
       "         [1.7485],\n",
       "         [1.7636],\n",
       "         [1.7788],\n",
       "         [1.7939],\n",
       "         [1.8091],\n",
       "         [1.8242],\n",
       "         [1.8394],\n",
       "         [1.8545],\n",
       "         [1.8697],\n",
       "         [1.8848],\n",
       "         [1.9000],\n",
       "         [1.9152],\n",
       "         [1.9303],\n",
       "         [1.9455],\n",
       "         [1.9606],\n",
       "         [1.9758],\n",
       "         [1.9909],\n",
       "         [2.0061],\n",
       "         [2.0212],\n",
       "         [2.0364],\n",
       "         [2.0515],\n",
       "         [2.0667],\n",
       "         [2.0818],\n",
       "         [2.0970],\n",
       "         [2.1121],\n",
       "         [2.1273],\n",
       "         [2.1424],\n",
       "         [2.1576],\n",
       "         [2.1727],\n",
       "         [2.1879],\n",
       "         [2.2030],\n",
       "         [2.2182],\n",
       "         [2.2333],\n",
       "         [2.2485],\n",
       "         [2.2636],\n",
       "         [2.2788],\n",
       "         [2.2939],\n",
       "         [2.3091],\n",
       "         [2.3242],\n",
       "         [2.3394],\n",
       "         [2.3545],\n",
       "         [2.3697],\n",
       "         [2.3848],\n",
       "         [2.4000]]),\n",
       " torch.Size([100, 1]))"
      ]
     },
     "execution_count": 19,
     "metadata": {},
     "output_type": "execute_result"
    }
   ],
   "source": [
    "y = weight * X + bias\n",
    "y, y.shape"
   ]
  },
  {
   "cell_type": "code",
   "execution_count": 20,
   "id": "d4c3486a",
   "metadata": {},
   "outputs": [
    {
     "data": {
      "text/plain": [
       "(torch.Size([80, 1]),\n",
       " torch.Size([80, 1]),\n",
       " torch.Size([20, 1]),\n",
       " torch.Size([20, 1]))"
      ]
     },
     "execution_count": 20,
     "metadata": {},
     "output_type": "execute_result"
    }
   ],
   "source": [
    "# Splitting the data set\n",
    "\n",
    "split_index = int(0.8 * len(X))\n",
    "X_train, y_train = X[:split_index], y[:split_index]\n",
    "X_test, y_test = X[split_index:], y[split_index:]\n",
    "\n",
    "X_train.shape, y_train.shape, X_test.shape, y_test.shape"
   ]
  },
  {
   "cell_type": "code",
   "execution_count": 21,
   "id": "a9803458",
   "metadata": {},
   "outputs": [],
   "source": [
    "## Plotting function\n",
    "\n",
    "def plot_predictions(train_data= X_train,\n",
    "                    train_labels = y_train,\n",
    "                    test_data = X_test,\n",
    "                    test_labels = y_test,\n",
    "                    predictions = None):\n",
    "    \"\"\"Plots training data, test data and compares precitions\n",
    "    \"\"\"\n",
    "    plt.figure(figsize=(10,7))\n",
    "\n",
    "    #Plot the training data in blue\n",
    "    plt.scatter(train_data, train_labels, c = 'b', s = 4, label = 'Training Data')\n",
    "\n",
    "    #Plot the test data in green\n",
    "    plt.scatter(test_data, y_test, s = 4, c = 'g', label = 'Testing Data')\n",
    "\n",
    "    if predictions is not None:\n",
    "        # Plot the predictions in red (predictions were made on the test data)\n",
    "        plt.scatter(test_data, predictions, c = 'r', s = 4, label = 'Predictions')\n",
    "\n",
    "    # Show the legend\n",
    "    plt.legend(prop = {'size': 14})\n",
    "\n",
    "    pass"
   ]
  },
  {
   "cell_type": "code",
   "execution_count": 22,
   "id": "d313ad92",
   "metadata": {},
   "outputs": [
    {
     "data": {
      "image/png": "[encoded data removed]",
      "text/plain": [
       "<Figure size 1000x700 with 1 Axes>"
      ]
     },
     "metadata": {},
     "output_type": "display_data"
    }
   ],
   "source": [
    "plot_predictions()"
   ]
  },
  {
   "cell_type": "markdown",
   "id": "af88f417",
   "metadata": {},
   "source": [
    "## Q2: Build a PyTorch model by subclassing `nn.Module`.\n",
    "\n",
    "- Inside should be a randomly initialized `nn.Parameter()` with `requires_grad=True`, one for weights and one for bias.\n",
    "- Implement the `forward()` method to compute the linear regression function you used to create the dataset in 1.\n",
    "- Once you've constructed the model, make an instance of it and check its `state_dict()`.\n",
    "- **Note:** If you'd like to use `nn.Linear()` instead of `nn.Parameter()` you can.\n"
   ]
  },
  {
   "cell_type": "code",
   "execution_count": 23,
   "id": "648b35f6",
   "metadata": {},
   "outputs": [],
   "source": [
    "# Create a Linear Regression model using pure Pytorch\n",
    "\n",
    "class LinearRegressionModel(nn.Module):\n",
    "    def __init__(self):\n",
    "        super().__init__()\n",
    "        self.weight = nn.Parameter(torch.randn(1,  # Start with random weights from a normal distributions\n",
    "                                    dtype=torch.float32, # pytorch loves float32 by default\n",
    "                                    requires_grad=True\n",
    "                                    ))\n",
    "        self.bias = nn.Parameter(torch.randn(1, dtype = torch.float, requires_grad=True))\n",
    "\n",
    "        #Forward defines the computation in the model\n",
    "\n",
    "    def forward(self, x):\n",
    "        return self.weight * x + self.bias\n",
    "        \n",
    "    "
   ]
  },
  {
   "cell_type": "code",
   "execution_count": 33,
   "id": "088e29c7",
   "metadata": {},
   "outputs": [
    {
     "data": {
      "text/plain": [
       "OrderedDict([('weight', tensor([-0.1429])), ('bias', tensor([-0.3765]))])"
      ]
     },
     "execution_count": 33,
     "metadata": {},
     "output_type": "execute_result"
    }
   ],
   "source": [
    "model = LinearRegressionModel()\n",
    "model.state_dict()"
   ]
  },
  {
   "cell_type": "markdown",
   "id": "81753c25",
   "metadata": {},
   "source": [
    "## Question 3:"
   ]
  },
  {
   "cell_type": "code",
   "execution_count": 34,
   "id": "caf0ed91",
   "metadata": {},
   "outputs": [
    {
     "data": {
      "text/plain": [
       "(L1Loss(),\n",
       " SGD (\n",
       " Parameter Group 0\n",
       "     dampening: 0\n",
       "     differentiable: False\n",
       "     foreach: None\n",
       "     fused: None\n",
       "     lr: 0.01\n",
       "     maximize: False\n",
       "     momentum: 0\n",
       "     nesterov: False\n",
       "     weight_decay: 0\n",
       " ))"
      ]
     },
     "execution_count": 34,
     "metadata": {},
     "output_type": "execute_result"
    }
   ],
   "source": [
    "## Loss function\n",
    "\n",
    "loss_fn = nn.L1Loss()\n",
    "\n",
    "## Optimizer\n",
    "\n",
    "optimizer = torch.optim.SGD(params = model.parameters(), \n",
    "                        lr = 0.01)\n",
    "\n",
    "loss_fn, optimizer\n",
    "\n"
   ]
  },
  {
   "cell_type": "code",
   "execution_count": 35,
   "id": "515d206f",
   "metadata": {},
   "outputs": [
    {
     "name": "stdout",
     "output_type": "stream",
     "text": [
      "Epoch: 0 | MAE Train Loss: 2.160029888153076 | MAE Test Loss: 3.1782023906707764 \n",
      "Epoch: 20 | MAE Train Loss: 1.1640653610229492 | MAE Test Loss: 1.1746876239776611 \n",
      "Epoch: 40 | MAE Train Loss: 0.37662482261657715 | MAE Test Loss: 0.4503123164176941 \n",
      "Epoch: 60 | MAE Train Loss: 0.3389241397380829 | MAE Test Loss: 0.5133076310157776 \n",
      "Epoch: 80 | MAE Train Loss: 0.3079215884208679 | MAE Test Loss: 0.4798695147037506 \n",
      "Epoch: 100 | MAE Train Loss: 0.2769700288772583 | MAE Test Loss: 0.4297712445259094 \n",
      "Epoch: 120 | MAE Train Loss: 0.2460242211818695 | MAE Test Loss: 0.38300538063049316 \n",
      "Epoch: 140 | MAE Train Loss: 0.21507668495178223 | MAE Test Loss: 0.33290737867355347 \n",
      "Epoch: 160 | MAE Train Loss: 0.1841268092393875 | MAE Test Loss: 0.2861413359642029 \n",
      "Epoch: 180 | MAE Train Loss: 0.153183251619339 | MAE Test Loss: 0.23604364693164825 \n",
      "Epoch: 200 | MAE Train Loss: 0.12222923338413239 | MAE Test Loss: 0.1892780065536499 \n",
      "Epoch: 220 | MAE Train Loss: 0.09128639847040176 | MAE Test Loss: 0.13918033242225647 \n",
      "Epoch: 240 | MAE Train Loss: 0.060331571847200394 | MAE Test Loss: 0.0924147367477417 \n",
      "Epoch: 260 | MAE Train Loss: 0.029390892013907433 | MAE Test Loss: 0.04576290771365166 \n",
      "Epoch: 280 | MAE Train Loss: 0.008489643223583698 | MAE Test Loss: 0.08488525450229645 \n"
     ]
    }
   ],
   "source": [
    "# Training Loop\n",
    "\n",
    "epochs  = 300\n",
    "training_loss_list = []\n",
    "test_loss_list = []\n",
    "epoch_count = []\n",
    "\n",
    "for epoch in range(epochs):\n",
    "\n",
    "    # Training Mode\n",
    "    model.train()\n",
    "\n",
    "    # 1. Forward Pass\n",
    "    y_preds = model.forward(X_train)\n",
    "\n",
    "    # 2: compute the loss\n",
    "    loss = loss_fn(y_train, y_preds)\n",
    "\n",
    "    # 3. Clean the gradients of the optimzer\n",
    "    optimizer.zero_grad()\n",
    "\n",
    "    # 4. Propagate the loss backwards\n",
    "    loss.backward()\n",
    "\n",
    "    #5. Step\n",
    "    optimizer.step()\n",
    "\n",
    "    # Put the model in evaluation mode\n",
    "    model.eval()\n",
    "\n",
    "    with torch.inference_mode():\n",
    "      # 1. Forward pass on test data\n",
    "\n",
    "      test_pred = model(X_test)\n",
    "      # 2. Caculate loss on test data\n",
    "      test_loss = loss_fn(test_pred, y_test.type(torch.float)) # predictions come in torch.float datatype, so comparisons need to be done with tensors of the same type\n",
    "\n",
    "      # Print out what's happening\n",
    "      if epoch % 20 == 0:\n",
    "            epoch_count.append(epoch)\n",
    "            training_loss_list.append(loss.detach().numpy())\n",
    "            test_loss_list.append(test_loss.detach().numpy())\n",
    "            print(f\"Epoch: {epoch} | MAE Train Loss: {loss} | MAE Test Loss: {test_loss} \")\n"
   ]
  },
  {
   "cell_type": "code",
   "execution_count": 36,
   "id": "5a883d7f",
   "metadata": {},
   "outputs": [
    {
     "data": {
      "text/plain": [
       "<matplotlib.legend.Legend at 0x75f1ba246420>"
      ]
     },
     "execution_count": 36,
     "metadata": {},
     "output_type": "execute_result"
    },
    {
     "data": {
      "image/png": "[encoded data removed]",
      "text/plain": [
       "<Figure size 640x480 with 1 Axes>"
      ]
     },
     "metadata": {},
     "output_type": "display_data"
    }
   ],
   "source": [
    "# Plot the loss curves\n",
    "plt.plot(epoch_count, training_loss_list, label=\"Train loss\")\n",
    "plt.plot(epoch_count, test_loss_list, label=\"Test loss\")\n",
    "plt.title(\"Training and test loss curves\")\n",
    "plt.ylabel(\"Loss\")\n",
    "plt.xlabel(\"Epochs\")\n",
    "plt.legend()"
   ]
  },
  {
   "cell_type": "code",
   "execution_count": 37,
   "id": "6dfed6e7",
   "metadata": {},
   "outputs": [
    {
     "name": "stdout",
     "output_type": "stream",
     "text": [
      "The model learned the following values for weights and bias:\n",
      "OrderedDict({'weight': tensor([0.3018]), 'bias': tensor([0.8900])})\n",
      "\n",
      "And the original values for weights and bias are:\n",
      "weights: 0.3, bias: 0.9\n"
     ]
    }
   ],
   "source": [
    "# Find our model's learned parameters\n",
    "print(\"The model learned the following values for weights and bias:\")\n",
    "print(model.state_dict())\n",
    "print(\"\\nAnd the original values for weights and bias are:\")\n",
    "print(f\"weights: {weight}, bias: {bias}\")"
   ]
  },
  {
   "cell_type": "code",
   "execution_count": 38,
   "id": "adf03486",
   "metadata": {},
   "outputs": [
    {
     "data": {
      "text/plain": [
       "tensor([[2.1092],\n",
       "        [2.1244],\n",
       "        [2.1397],\n",
       "        [2.1549],\n",
       "        [2.1702],\n",
       "        [2.1854],\n",
       "        [2.2006],\n",
       "        [2.2159],\n",
       "        [2.2311],\n",
       "        [2.2464],\n",
       "        [2.2616],\n",
       "        [2.2768],\n",
       "        [2.2921],\n",
       "        [2.3073],\n",
       "        [2.3226],\n",
       "        [2.3378],\n",
       "        [2.3530],\n",
       "        [2.3683],\n",
       "        [2.3835],\n",
       "        [2.3988]])"
      ]
     },
     "execution_count": 38,
     "metadata": {},
     "output_type": "execute_result"
    }
   ],
   "source": [
    "# 1. Set the model in evaluation mode\n",
    "model.eval()\n",
    "device = 'cuda' if torch.cuda.is_available() else 'cpu'\n",
    "# 2. Setup the inference mode context manager\n",
    "with torch.inference_mode():\n",
    "  # 3. Make sure the calculations are done with the model and data on the same device\n",
    "  # in our case, we haven't setup device-agnostic code yet so our data and model are\n",
    "  # on the CPU by default.\n",
    "  # model_0.to(device)\n",
    "  X_test = X_test.to(device)\n",
    "  y_preds = model(X_test)\n",
    "y_preds"
   ]
  },
  {
   "cell_type": "code",
   "execution_count": 39,
   "id": "11d670e0",
   "metadata": {},
   "outputs": [
    {
     "data": {
      "image/png": "[encoded data removed]",
      "text/plain": [
       "<Figure size 1000x700 with 1 Axes>"
      ]
     },
     "metadata": {},
     "output_type": "display_data"
    }
   ],
   "source": [
    "plot_predictions(predictions = y_preds)"
   ]
  },
  {
   "cell_type": "code",
   "execution_count": null,
   "id": "936cc330",
   "metadata": {},
   "outputs": [],
   "source": []
  }
 ],
 "metadata": {
  "kernelspec": {
   "display_name": "Python 3",
   "language": "python",
   "name": "python3"
  },
  "language_info": {
   "codemirror_mode": {
    "name": "ipython",
    "version": 3
   },
   "file_extension": ".py",
   "mimetype": "text/x-python",
   "name": "python",
   "nbconvert_exporter": "python",
   "pygments_lexer": "ipython3",
   "version": "3.12.1"
  }
 },
 "nbformat": 4,
 "nbformat_minor": 5
}
