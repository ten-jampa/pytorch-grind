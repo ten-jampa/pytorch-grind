{
 "cells": [
  {
   "cell_type": "markdown",
   "id": "260e6cbb",
   "metadata": {},
   "source": [
    "\n",
    "# 00. PyTorch Fundamentals Exercises\n",
    "## 1. Documentation reading\n",
    "\n",
    "A big part of deep learning (and learning to code in general) is getting familiar with the documentation of a certain framework you're using. We'll be using the PyTorch documentation a lot throughout the rest of this course. So I'd recommend spending 10-minutes reading the following (it's okay if you don't get some things for now, the focus is not yet full understanding, it's awareness):\n",
    "\n",
    "    The documentation on torch.Tensor.\n",
    "    The documentation on torch.cuda.\n",
    "\n"
   ]
  },
  {
   "cell_type": "markdown",
   "id": "56a4945d",
   "metadata": {},
   "source": [
    "## 2: Create a random tensor with shape (7,7)"
   ]
  },
  {
   "cell_type": "code",
   "execution_count": 2,
   "id": "128d09df",
   "metadata": {},
   "outputs": [],
   "source": [
    "import torch"
   ]
  },
  {
   "cell_type": "code",
   "execution_count": 4,
   "id": "ce734208",
   "metadata": {},
   "outputs": [
    {
     "data": {
      "text/plain": [
       "tensor([[0.8341, 0.8492, 0.8087, 0.3781, 0.2549, 0.0514, 0.0178],\n",
       "        [0.4486, 0.1512, 0.4517, 0.8127, 0.9508, 0.8224, 0.8912],\n",
       "        [0.4596, 0.0951, 0.6472, 0.7126, 0.8579, 0.0047, 0.5212],\n",
       "        [0.5900, 0.0725, 0.4726, 0.8632, 0.0259, 0.2028, 0.9748],\n",
       "        [0.6738, 0.7007, 0.8829, 0.1494, 0.5974, 0.3225, 0.5590],\n",
       "        [0.3945, 0.9208, 0.5329, 0.6233, 0.9266, 0.9070, 0.9428],\n",
       "        [0.2502, 0.6802, 0.3622, 0.7875, 0.5660, 0.8769, 0.9390]])"
      ]
     },
     "execution_count": 4,
     "metadata": {},
     "output_type": "execute_result"
    }
   ],
   "source": [
    "tensor = torch.rand(size = (7,7))\n",
    "tensor"
   ]
  },
  {
   "cell_type": "markdown",
   "id": "02909fdc",
   "metadata": {},
   "source": [
    "## 3: Perform a matrix multiplication on the tensor from 2 with another random tensor with shape (1, 7)"
   ]
  },
  {
   "cell_type": "code",
   "execution_count": 11,
   "id": "252cc7bf",
   "metadata": {},
   "outputs": [
    {
     "data": {
      "text/plain": [
       "(tensor([[2.4793, 2.5383, 2.8876, 3.0205, 3.2306, 2.2604, 3.1020]]),\n",
       " torch.Size([1, 7]))"
      ]
     },
     "execution_count": 11,
     "metadata": {},
     "output_type": "execute_result"
    }
   ],
   "source": [
    "tensor2 = torch.rand(1,7)\n",
    "out1 = tensor2 @ tensor\n",
    "out1, out1.shape"
   ]
  },
  {
   "cell_type": "code",
   "execution_count": 12,
   "id": "b572e6e6",
   "metadata": {},
   "outputs": [
    {
     "data": {
      "text/plain": [
       "(tensor([[2.4970],\n",
       "         [2.8281],\n",
       "         [2.0118],\n",
       "         [2.1514],\n",
       "         [3.0000],\n",
       "         [3.5446],\n",
       "         [2.9115]]),\n",
       " torch.Size([7, 1]))"
      ]
     },
     "execution_count": 12,
     "metadata": {},
     "output_type": "execute_result"
    }
   ],
   "source": [
    "out2 = tensor @ tensor2.T\n",
    "out2, out2.shape"
   ]
  },
  {
   "cell_type": "markdown",
   "id": "e5149176",
   "metadata": {},
   "source": [
    "## 4. Set the random seed to 0 and do 2 & 3 over again."
   ]
  },
  {
   "cell_type": "code",
   "execution_count": 17,
   "id": "6c4817b7",
   "metadata": {},
   "outputs": [
    {
     "data": {
      "text/plain": [
       "tensor([[1.8542],\n",
       "        [1.9611],\n",
       "        [2.2884],\n",
       "        [3.0481],\n",
       "        [1.7067],\n",
       "        [2.5290],\n",
       "        [1.7989]])"
      ]
     },
     "execution_count": 17,
     "metadata": {},
     "output_type": "execute_result"
    }
   ],
   "source": [
    "torch.manual_seed(seed = 0)\n",
    "\n",
    "tensor1 = torch.rand(7,7)\n",
    "tensor2 = torch.rand(1,7)\n",
    "out  = tensor1 @ tensor2.T\n",
    "out"
   ]
  },
  {
   "cell_type": "markdown",
   "id": "b61e136c",
   "metadata": {},
   "source": [
    "## 5. Speaking of random seeds, we saw how to set it with torch.manual_seed() but is there a GPU equivalent? (hint: you'll need to look into the documentation for torch.cuda for this one)"
   ]
  },
  {
   "cell_type": "code",
   "execution_count": 21,
   "id": "d03bc329",
   "metadata": {},
   "outputs": [],
   "source": [
    "device = \"cuda\" if torch.cuda.is_available() else \"cpu\""
   ]
  },
  {
   "cell_type": "code",
   "execution_count": 22,
   "id": "638c47f1",
   "metadata": {},
   "outputs": [],
   "source": [
    "tensor = tensor.to(device)"
   ]
  },
  {
   "cell_type": "code",
   "execution_count": 23,
   "id": "04f2c953",
   "metadata": {},
   "outputs": [
    {
     "data": {
      "text/plain": [
       "device(type='cpu')"
      ]
     },
     "execution_count": 23,
     "metadata": {},
     "output_type": "execute_result"
    }
   ],
   "source": [
    "tensor.device"
   ]
  },
  {
   "cell_type": "code",
   "execution_count": 25,
   "id": "80f3020f",
   "metadata": {},
   "outputs": [
    {
     "data": {
      "text/plain": [
       "tensor([[1.2239],\n",
       "        [2.0847],\n",
       "        [1.9002],\n",
       "        [0.9408],\n",
       "        [1.5213],\n",
       "        [1.3606],\n",
       "        [0.8780]])"
      ]
     },
     "execution_count": 25,
     "metadata": {},
     "output_type": "execute_result"
    }
   ],
   "source": [
    "torch.cuda.manual_seed(seed = 0)\n",
    "tensor1 = torch.rand(7,7)\n",
    "tensor2 = torch.rand(1,7)\n",
    "out  = tensor1 @ tensor2.T\n",
    "out"
   ]
  },
  {
   "cell_type": "code",
   "execution_count": 27,
   "id": "62698d7a",
   "metadata": {},
   "outputs": [
    {
     "data": {
      "text/plain": [
       "tensor([[2.0942],\n",
       "        [1.7132],\n",
       "        [1.8574],\n",
       "        [1.8773],\n",
       "        [2.0426],\n",
       "        [2.1253],\n",
       "        [1.6462]])"
      ]
     },
     "execution_count": 27,
     "metadata": {},
     "output_type": "execute_result"
    }
   ],
   "source": [
    "torch.cuda.manual_seed(seed = 0)\n",
    "tensor1 = torch.rand(7,7)\n",
    "tensor2 = torch.rand(1,7)\n",
    "out  = tensor1 @ tensor2.T\n",
    "out"
   ]
  },
  {
   "cell_type": "markdown",
   "id": "d76927c9",
   "metadata": {},
   "source": [
    "## 6. Create two random tensors of shape (2, 3) and send them both to the GPU (you'll need access to a GPU for this). Set torch.manual_seed(1234) when creating the tensors (this doesn't have to be the GPU random seed). The output should be something like:"
   ]
  },
  {
   "cell_type": "code",
   "execution_count": 29,
   "id": "9255509b",
   "metadata": {},
   "outputs": [
    {
     "data": {
      "text/plain": [
       "(tensor([[0.0290, 0.4019, 0.2598],\n",
       "         [0.3666, 0.0583, 0.7006]]),\n",
       " tensor([[0.0518, 0.4681, 0.6738],\n",
       "         [0.3315, 0.7837, 0.5631]]))"
      ]
     },
     "execution_count": 29,
     "metadata": {},
     "output_type": "execute_result"
    }
   ],
   "source": [
    "torch.manual_seed(1234)\n",
    "tensor1, tensor2 = torch.rand(2,3).to(device), torch.rand(2,3).to(device)\n",
    "tensor1, tensor2"
   ]
  },
  {
   "cell_type": "markdown",
   "id": "22b81932",
   "metadata": {},
   "source": [
    "## 7. Perform a matrix multiplication on the tensors you created in 6 (again, you may have to adjust the shapes of one of the tensors)."
   ]
  },
  {
   "cell_type": "code",
   "execution_count": 32,
   "id": "71b11919",
   "metadata": {},
   "outputs": [
    {
     "name": "stdout",
     "output_type": "stream",
     "text": [
      "shape1: torch.Size([2, 3])\n",
      "shape2: torch.Size([2, 3])\n"
     ]
    },
    {
     "data": {
      "text/plain": [
       "(tensor([[0.3647, 0.4709],\n",
       "         [0.5184, 0.5617]]),\n",
       " device(type='cpu'),\n",
       " torch.Size([2, 2]))"
      ]
     },
     "execution_count": 32,
     "metadata": {},
     "output_type": "execute_result"
    }
   ],
   "source": [
    "print(f'shape1: {tensor1.shape}')\n",
    "print(f'shape2: {tensor2.shape}')\n",
    "\n",
    "output = tensor1 @ tensor2.T\n",
    "output, output.device, output.shape"
   ]
  },
  {
   "cell_type": "markdown",
   "id": "38eae61a",
   "metadata": {},
   "source": [
    "## 8. Find the maximum and minimum values of the output of 7."
   ]
  },
  {
   "cell_type": "code",
   "execution_count": 36,
   "id": "334c7bed",
   "metadata": {},
   "outputs": [
    {
     "name": "stdout",
     "output_type": "stream",
     "text": [
      "tensor([[0.3647, 0.4709],\n",
      "        [0.5184, 0.5617]])\n",
      "Max: 0.5617256760597229\n",
      "Min: 0.3647301495075226\n"
     ]
    }
   ],
   "source": [
    "max = output.max()\n",
    "min = output.min()\n",
    "print(output)\n",
    "print(f'Max: {max}')\n",
    "print(f'Min: {min}')"
   ]
  },
  {
   "cell_type": "markdown",
   "id": "a46f01f2",
   "metadata": {},
   "source": [
    "## 9. Find the maximum and minimum index values of the output of 7."
   ]
  },
  {
   "cell_type": "code",
   "execution_count": 44,
   "id": "62b1d479",
   "metadata": {},
   "outputs": [
    {
     "name": "stdout",
     "output_type": "stream",
     "text": [
      "tensor([[0.3647, 0.4709],\n",
      "        [0.5184, 0.5617]])\n",
      "Argmin : tensor([0, 0])\n",
      "Argmax : tensor([1, 1])\n"
     ]
    }
   ],
   "source": [
    "argmax = torch.argmax(output, dim = 0)\n",
    "argmin = torch.argmin(output, dim = 0)\n",
    "print(output)\n",
    "print(f'Argmin : {argmin}')\n",
    "print(f'Argmax : {argmax}')"
   ]
  },
  {
   "cell_type": "markdown",
   "id": "cbb0cbf9",
   "metadata": {},
   "source": [
    "## 10. Make a random tensor with shape (1, 1, 1, 10) and then create a new tensor with all the 1 dimensions removed to be left with a tensor of shape (10). Set the seed to 7 when you create it and print out the first tensor and it's shape as well as the second tensor and it's shape."
   ]
  },
  {
   "cell_type": "code",
   "execution_count": 47,
   "id": "0212da62",
   "metadata": {},
   "outputs": [
    {
     "name": "stdout",
     "output_type": "stream",
     "text": [
      "tensor([[[[0.2548, 0.6294, 0.9665, 0.7399, 0.4517, 0.4757, 0.7842, 0.1525,\n",
      "           0.6662, 0.3343]]]]) torch.Size([1, 1, 1, 10])\n",
      "tensor([0.2548, 0.6294, 0.9665, 0.7399, 0.4517, 0.4757, 0.7842, 0.1525, 0.6662,\n",
      "        0.3343]) torch.Size([10])\n"
     ]
    }
   ],
   "source": [
    "tensor1 = torch.rand(1,1,1,10)\n",
    "tensor1_squeezed = tensor1.squeeze()\n",
    "print(tensor1, tensor1.shape)\n",
    "print(tensor1_squeezed, tensor1_squeezed.shape)\n",
    "\n"
   ]
  },
  {
   "cell_type": "markdown",
   "id": "6a480bd6",
   "metadata": {},
   "source": [
    "## End"
   ]
  }
 ],
 "metadata": {
  "kernelspec": {
   "display_name": "Python 3",
   "language": "python",
   "name": "python3"
  },
  "language_info": {
   "codemirror_mode": {
    "name": "ipython",
    "version": 3
   },
   "file_extension": ".py",
   "mimetype": "text/x-python",
   "name": "python",
   "nbconvert_exporter": "python",
   "pygments_lexer": "ipython3",
   "version": "3.12.1"
  }
 },
 "nbformat": 4,
 "nbformat_minor": 5
}
